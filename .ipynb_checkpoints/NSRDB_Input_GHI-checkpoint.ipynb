{
 "cells": [
  {
   "cell_type": "code",
   "execution_count": null,
   "metadata": {},
   "outputs": [],
   "source": [
    "import h5pyd\n",
    "import numpy as np\n",
    "import pandas as pd\n",
    "import matplotlib.pyplot as plt\n",
    "import matplotlib.image as mpimg\n",
    "from scipy.spatial import cKDTree\n",
    "from geopy.geocoders import Nominatim"
   ]
  },
  {
   "cell_type": "code",
   "execution_count": 2,
   "metadata": {},
   "outputs": [],
   "source": [
    "#place = input (\"Enter Address :\") \n",
    "#print(place)"
   ]
  },
  {
   "cell_type": "code",
   "execution_count": 3,
   "metadata": {},
   "outputs": [
    {
     "name": "stdout",
     "output_type": "stream",
     "text": [
      "Brook Pine Trail, Town of Apex, Wake County, North Carolina, 27519-9443, United States\n"
     ]
    }
   ],
   "source": [
    "place = \"408 Brook Pine Trl, apex\"\n",
    "geolocator = Nominatim(user_agent=\"Test\")\n",
    "location = geolocator.geocode(place) \n",
    "print(location)"
   ]
  },
  {
   "cell_type": "code",
   "execution_count": 4,
   "metadata": {},
   "outputs": [
    {
     "name": "stdout",
     "output_type": "stream",
     "text": [
      "(35.7625474, -78.8912379)\n"
     ]
    }
   ],
   "source": [
    "print((location.latitude, location.longitude))"
   ]
  },
  {
   "cell_type": "code",
   "execution_count": 5,
   "metadata": {},
   "outputs": [],
   "source": [
    "f = h5pyd.File(\"/nrel/nsrdb/v3/nsrdb_2018.h5\", 'r')"
   ]
  },
  {
   "cell_type": "code",
   "execution_count": 6,
   "metadata": {},
   "outputs": [],
   "source": [
    "# The quickest way to find the nearest site it using a KDtree\n",
    "dset_coords = f['coordinates'][...]\n",
    "tree = cKDTree(dset_coords)\n",
    "\n",
    "def nearest_site(tree, lat_coord, lon_coord):\n",
    "    lat_lon = np.array([lat_coord, lon_coord])\n",
    "    dist, pos = tree.query(lat_lon)\n",
    "    return pos\n",
    "\n",
    "Nearest_idx = nearest_site(tree, location.latitude,location.longitude )\n"
   ]
  },
  {
   "cell_type": "code",
   "execution_count": 7,
   "metadata": {},
   "outputs": [
    {
     "name": "stdout",
     "output_type": "stream",
     "text": [
      "Site index for Nearest City: \t\t 1091015\n",
      "Coordinates of nearest point: \t [ 35.77 -78.9 ]\n"
     ]
    }
   ],
   "source": [
    "print(\"Site index for Nearest City: \\t\\t {}\".format(Nearest_idx))\n",
    "print(\"Coordinates of nearest point: \\t {}\".format(dset_coords[Nearest_idx]))"
   ]
  },
  {
   "cell_type": "code",
   "execution_count": 8,
   "metadata": {},
   "outputs": [
    {
     "name": "stdout",
     "output_type": "stream",
     "text": [
      "DatetimeIndex(['2018-01-01 00:00:00', '2018-01-01 00:30:00',\n",
      "               '2018-01-01 01:00:00', '2018-01-01 01:30:00',\n",
      "               '2018-01-01 02:00:00', '2018-01-01 02:30:00',\n",
      "               '2018-01-01 03:00:00', '2018-01-01 03:30:00',\n",
      "               '2018-01-01 04:00:00', '2018-01-01 04:30:00',\n",
      "               ...\n",
      "               '2018-12-31 19:00:00', '2018-12-31 19:30:00',\n",
      "               '2018-12-31 20:00:00', '2018-12-31 20:30:00',\n",
      "               '2018-12-31 21:00:00', '2018-12-31 21:30:00',\n",
      "               '2018-12-31 22:00:00', '2018-12-31 22:30:00',\n",
      "               '2018-12-31 23:00:00', '2018-12-31 23:30:00'],\n",
      "              dtype='datetime64[ns]', length=17520, freq=None)\n"
     ]
    }
   ],
   "source": [
    "# Datasets are stored in a 2d array of time x location\n",
    "dset = f['ghi']\n",
    "dset.chunks \n",
    "\n",
    "time_index = pd.to_datetime(f['time_index'][...].astype(str))\n",
    "print(time_index) # Temporal resolution is 30min"
   ]
  },
  {
   "cell_type": "code",
   "execution_count": 9,
   "metadata": {},
   "outputs": [
    {
     "name": "stdout",
     "output_type": "stream",
     "text": [
      "17520\n"
     ]
    }
   ],
   "source": [
    "# Get the entire 2012 timeseries data for a point near co-ordinates\n",
    "tseries = dset[:, Nearest_idx] / dset.attrs['psm_scale_factor']\n",
    "print(len(tseries)) "
   ]
  },
  {
   "cell_type": "code",
   "execution_count": 19,
   "metadata": {},
   "outputs": [
    {
     "data": {
      "text/plain": [
       "Text(0.5, 1.0, 'Point ghi in 2018')"
      ]
     },
     "execution_count": 19,
     "metadata": {},
     "output_type": "execute_result"
    },
    {
     "data": {
      "image/png": "[encoded data removed]",
      "text/plain": [
       "<Figure size 432x288 with 1 Axes>"
      ]
     },
     "metadata": {
      "needs_background": "light"
     },
     "output_type": "display_data"
    }
   ],
   "source": [
    "#Plot Timeseries GHI for co-ords\n",
    "plt.plot(time_index, tseries)\n",
    "plt.ylabel(\"ghi\")\n",
    "plt.title(\"Point ghi in 2018\")\n"
   ]
  },
  {
   "cell_type": "code",
   "execution_count": 22,
   "metadata": {},
   "outputs": [],
   "source": [
    "df = pd.DataFrame({'ghi': tseries}, index=time_index)\n",
    "df[\"year\"] = df.index.year\n",
    "df[\"month\"] = df.index.month\n",
    "df[\"day\"] = df.index.day\n",
    "df[\"hour\"] = df.index.hour\n",
    "\n",
    "agg = df.groupby([\"month\",\"hour\"]).mean()\n",
    "agg = agg.reset_index().pivot(index=\"month\",columns=\"hour\",values=\"ghi\")\n",
    "agg\n",
    "agg.to_csv(\"address.csv\")"
   ]
  },
  {
   "cell_type": "code",
   "execution_count": 21,
   "metadata": {},
   "outputs": [
    {
     "data": {
      "text/plain": [
       "<matplotlib.colorbar.Colorbar at 0x1e0dc1059a0>"
      ]
     },
     "execution_count": 21,
     "metadata": {},
     "output_type": "execute_result"
    },
    {
     "data": {
      "image/png": "[encoded data removed]",
      "text/plain": [
       "<Figure size 432x288 with 2 Axes>"
      ]
     },
     "metadata": {
      "needs_background": "light"
     },
     "output_type": "display_data"
    }
   ],
   "source": [
    "plt.imshow(agg)\n",
    "plt.xlabel(\"Hour\")\n",
    "plt.ylabel(\"Month\")\n",
    "plt.title(\"12 x 24 Mean GHI (W/m^2)\")\n",
    "plt.colorbar()\n"
   ]
  },
  {
   "cell_type": "code",
   "execution_count": null,
   "metadata": {},
   "outputs": [],
   "source": []
  }
 ],
 "metadata": {
  "kernelspec": {
   "display_name": "Python 3",
   "language": "python",
   "name": "python3"
  },
  "language_info": {
   "codemirror_mode": {
    "name": "ipython",
    "version": 3
   },
   "file_extension": ".py",
   "mimetype": "text/x-python",
   "name": "python",
   "nbconvert_exporter": "python",
   "pygments_lexer": "ipython3",
   "version": "3.6.8"
  }
 },
 "nbformat": 4,
 "nbformat_minor": 5
}
